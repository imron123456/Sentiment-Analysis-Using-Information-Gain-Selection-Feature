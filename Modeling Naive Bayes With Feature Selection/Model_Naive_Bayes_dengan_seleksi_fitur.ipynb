{
  "nbformat": 4,
  "nbformat_minor": 0,
  "metadata": {
    "colab": {
      "provenance": []
    },
    "kernelspec": {
      "name": "python3",
      "display_name": "Python 3"
    },
    "language_info": {
      "name": "python"
    }
  },
  "cells": [
    {
      "cell_type": "markdown",
      "source": [
        "UNTUK PENGHITUNGAN FITUR IGNYA JIKA DIBUAT TERPISAH"
      ],
      "metadata": {
        "id": "2hyKUsg2QI22"
      }
    },
    {
      "cell_type": "code",
      "source": [
        "import pandas as pd\n",
        "from sklearn.model_selection import train_test_split\n",
        "from sklearn.feature_extraction.text import CountVectorizer\n",
        "from sklearn.naive_bayes import MultinomialNB\n",
        "from sklearn.metrics import classification_report, confusion_matrix\n",
        "\n",
        "# === 1. Baca Data ===\n",
        "df = pd.read_excel('data pengujian.xlsx')\n",
        "fitur_ig = pd.read_excel('10 kata.xlsx')\n",
        "\n",
        "# Pastikan kolom tidak ada yang kosong\n",
        "df.dropna(subset=['stem_clean', 'sentiment_label', 'Label Pakar'], inplace=True)\n",
        "\n",
        "# === 2. Ambil fitur IG (kata-kata penting) ===\n",
        "top_kata = fitur_ig['Kata'].tolist()\n",
        "\n",
        "# === 3. Buat Vectorizer BoW berdasar fitur IG ===\n",
        "vectorizer = CountVectorizer(vocabulary=top_kata)\n",
        "X = vectorizer.transform(df['stem_clean'])  # hasil: fitur BoW\n",
        "\n",
        "# === 4. Target: Label Peneliti dan Label Pakar ===\n",
        "y_peneliti = df['sentiment_label']\n",
        "y_pakar = df['Label Pakar']\n",
        "\n",
        "# === 5. Split Data (Train dan Test) ===\n",
        "X_train, X_test, y_train_p, y_test_p, y_train_k, y_test_k = train_test_split(\n",
        "    X, y_peneliti, y_pakar, test_size=0.2, random_state=42\n",
        ")\n",
        "\n",
        "# === 6. Model Naive Bayes (berdasar label peneliti) ===\n",
        "nb_model = MultinomialNB()\n",
        "nb_model.fit(X_train, y_train_p)\n",
        "\n",
        "# === 7. Prediksi Data Uji ===\n",
        "y_pred = nb_model.predict(X_test)\n",
        "\n",
        "# === 8. Evaluasi Perbandingan Label Peneliti vs Pakar ===\n",
        "\n",
        "# === Tentukan urutan label secara eksplisit ===\n",
        "ordered_labels = ['positif', 'netral', 'negatif']\n",
        "\n",
        "# === Evaluasi ===\n",
        "print(\"=== Evaluasi Model: Label Peneliti vs Label Pakar ===\")\n",
        "print(\"Confusion Matrix (urutan: positif, netral, negatif):\")\n",
        "print(confusion_matrix(y_test_k, y_pred, labels=ordered_labels))\n",
        "\n",
        "print(\"\\nClassification Report:\")\n",
        "print(classification_report(y_test_k, y_pred, labels=ordered_labels, target_names=ordered_labels))"
      ],
      "metadata": {
        "colab": {
          "base_uri": "https://localhost:8080/"
        },
        "id": "__nkb6Hfm5kh",
        "outputId": "2bc25ce7-d48b-40b2-976a-c9a7ab22b174"
      },
      "execution_count": 35,
      "outputs": [
        {
          "output_type": "stream",
          "name": "stdout",
          "text": [
            "=== Evaluasi Model: Label Peneliti vs Label Pakar ===\n",
            "Confusion Matrix (urutan: positif, netral, negatif):\n",
            "[[88  0  0]\n",
            " [ 4  0  0]\n",
            " [ 7  0  1]]\n",
            "\n",
            "Classification Report:\n",
            "              precision    recall  f1-score   support\n",
            "\n",
            "     positif       0.89      1.00      0.94        88\n",
            "      netral       0.00      0.00      0.00         4\n",
            "     negatif       1.00      0.12      0.22         8\n",
            "\n",
            "    accuracy                           0.89       100\n",
            "   macro avg       0.63      0.38      0.39       100\n",
            "weighted avg       0.86      0.89      0.85       100\n",
            "\n"
          ]
        },
        {
          "output_type": "stream",
          "name": "stderr",
          "text": [
            "/usr/local/lib/python3.11/dist-packages/sklearn/metrics/_classification.py:1565: UndefinedMetricWarning: Precision is ill-defined and being set to 0.0 in labels with no predicted samples. Use `zero_division` parameter to control this behavior.\n",
            "  _warn_prf(average, modifier, f\"{metric.capitalize()} is\", len(result))\n",
            "/usr/local/lib/python3.11/dist-packages/sklearn/metrics/_classification.py:1565: UndefinedMetricWarning: Precision is ill-defined and being set to 0.0 in labels with no predicted samples. Use `zero_division` parameter to control this behavior.\n",
            "  _warn_prf(average, modifier, f\"{metric.capitalize()} is\", len(result))\n",
            "/usr/local/lib/python3.11/dist-packages/sklearn/metrics/_classification.py:1565: UndefinedMetricWarning: Precision is ill-defined and being set to 0.0 in labels with no predicted samples. Use `zero_division` parameter to control this behavior.\n",
            "  _warn_prf(average, modifier, f\"{metric.capitalize()} is\", len(result))\n"
          ]
        }
      ]
    },
    {
      "cell_type": "markdown",
      "source": [],
      "metadata": {
        "id": "7pHL0uhFQUPq"
      }
    },
    {
      "cell_type": "code",
      "source": [
        "import pandas as pd\n",
        "\n",
        "# === 1. Baca data pengujian ===\n",
        "df = pd.read_excel('data pengujian.xlsx')  # Pastikan kolom: sentiment_label, Label Pakar\n",
        "\n",
        "# === 2. Bersihkan data yang kosong dan normalisasi ke huruf kecil ===\n",
        "df = df.dropna(subset=['sentiment_label', 'Label Pakar'])\n",
        "df['sentiment_label'] = df['sentiment_label'].str.lower()\n",
        "df['Label Pakar'] = df['Label Pakar'].str.lower()\n",
        "\n",
        "# === 3. Hitung jumlah sentimen dari masing-masing label ===\n",
        "count_ai = df['sentiment_label'].value_counts().reindex(['positif', 'negatif', 'netral'], fill_value=0)\n",
        "count_pakar = df['Label Pakar'].value_counts().reindex(['positif', 'negatif', 'netral'], fill_value=0)\n",
        "\n",
        "# === 4. Gabungkan ke dalam satu DataFrame untuk perbandingan ===\n",
        "hasil = pd.DataFrame({\n",
        "    'Jumlah Sentimen Pakar': count_pakar,\n",
        "    'Jumlah Sentimen AI': count_ai\n",
        "})\n",
        "\n",
        "# === 5. Tampilkan hasil ===\n",
        "print(\"\\n=== Jumlah Sentimen Positif, Negatif, dan Netral ===\")\n",
        "print(hasil)\n",
        "\n",
        "# === (Opsional) Simpan ke Excel ===\n",
        "hasil.to_excel('jumlah_sentimen_pakar_dan_ai.xlsx')\n"
      ],
      "metadata": {
        "colab": {
          "base_uri": "https://localhost:8080/"
        },
        "id": "BWrtL53XP0cv",
        "outputId": "7bfaa633-e0f5-4329-f441-17ab058b75be"
      },
      "execution_count": 26,
      "outputs": [
        {
          "output_type": "stream",
          "name": "stdout",
          "text": [
            "\n",
            "=== Jumlah Sentimen Positif, Negatif, dan Netral ===\n",
            "         Jumlah Sentimen Pakar  Jumlah Sentimen AI\n",
            "positif                    425                 407\n",
            "negatif                     57                  67\n",
            "netral                      18                  26\n"
          ]
        }
      ]
    },
    {
      "cell_type": "markdown",
      "source": [
        "CARA LAIN: UNTUK PERHITUNGAN FITUR IG NYA DIJADIKAN SATU DAN LANGSUNG DIPROSES DENGAN PEMODELAN NAIVE BAYESNYA"
      ],
      "metadata": {
        "id": "g1oWq9OYIRTZ"
      }
    },
    {
      "cell_type": "code",
      "source": [
        "import pandas as pd\n",
        "from sklearn.feature_extraction.text import CountVectorizer\n",
        "from sklearn.feature_selection import mutual_info_classif\n",
        "from sklearn.model_selection import train_test_split\n",
        "from sklearn.naive_bayes import MultinomialNB\n",
        "from sklearn.metrics import classification_report, confusion_matrix\n",
        "\n",
        "# === 1. Baca Data ===\n",
        "df = pd.read_excel('data pengujian.xlsx')\n",
        "df.dropna(subset=['stem_clean', 'sentiment_label', 'Label Pakar'], inplace=True)\n",
        "\n",
        "# === 2. Vektorisasi Awal (semua kata) untuk hitung IG ===\n",
        "vectorizer_all = CountVectorizer()\n",
        "X_all = vectorizer_all.fit_transform(df['stem_clean'])\n",
        "y_peneliti = df['sentiment_label']\n",
        "y_pakar = df['Label Pakar']\n",
        "\n",
        "# === 3. Hitung Information Gain (IG) ===\n",
        "ig_scores = mutual_info_classif(X_all, y_peneliti, discrete_features=True)\n",
        "fitur = vectorizer_all.get_feature_names_out()\n",
        "df_ig = pd.DataFrame({'Kata': fitur, 'IG': ig_scores})\n",
        "\n",
        "# Simpan/ambil top-10 fitur terbaik\n",
        "top_kata = df_ig.sort_values(by='IG', ascending=False).head(10)['Kata'].tolist()\n",
        "\n",
        "# === 4. Buat Vectorizer ulang berdasarkan fitur IG ===\n",
        "vectorizer_ig = CountVectorizer(vocabulary=top_kata)\n",
        "X_selected = vectorizer_ig.transform(df['stem_clean'])  # hasil BoW top IG\n",
        "\n",
        "# === 5. Split Data (Train dan Test) ===\n",
        "X_train, X_test, y_train_p, y_test_p, y_train_k, y_test_k = train_test_split(\n",
        "    X_selected, y_peneliti, y_pakar, test_size=0.2, random_state=42\n",
        ")\n",
        "\n",
        "# === 6. Model Naive Bayes (berdasar label peneliti) ===\n",
        "nb_model = MultinomialNB()\n",
        "nb_model.fit(X_train, y_train_p)\n",
        "\n",
        "# === 7. Prediksi Data Uji ===\n",
        "y_pred = nb_model.predict(X_test)\n",
        "\n",
        "# === 8. Evaluasi: Bandingkan Label Peneliti (hasil model) vs Label Pakar ===\n",
        "ordered_labels = ['positif', 'netral', 'negatif']\n",
        "\n",
        "print(\"=== Evaluasi Model: Label Peneliti vs Label Pakar ===\")\n",
        "print(\"Confusion Matrix (urutan: positif, netral, negatif):\")\n",
        "print(confusion_matrix(y_test_k, y_pred, labels=ordered_labels))\n",
        "\n",
        "print(\"\\nClassification Report:\")\n",
        "print(classification_report(y_test_k, y_pred, labels=ordered_labels, target_names=ordered_labels))\n"
      ],
      "metadata": {
        "colab": {
          "base_uri": "https://localhost:8080/"
        },
        "id": "OrstbacKIT4-",
        "outputId": "1ab69bd5-f782-4679-ccdd-f0573fba939e"
      },
      "execution_count": 36,
      "outputs": [
        {
          "output_type": "stream",
          "name": "stdout",
          "text": [
            "=== Evaluasi Model: Label Peneliti vs Label Pakar ===\n",
            "Confusion Matrix (urutan: positif, netral, negatif):\n",
            "[[88  0  0]\n",
            " [ 4  0  0]\n",
            " [ 7  0  1]]\n",
            "\n",
            "Classification Report:\n",
            "              precision    recall  f1-score   support\n",
            "\n",
            "     positif       0.89      1.00      0.94        88\n",
            "      netral       0.00      0.00      0.00         4\n",
            "     negatif       1.00      0.12      0.22         8\n",
            "\n",
            "    accuracy                           0.89       100\n",
            "   macro avg       0.63      0.38      0.39       100\n",
            "weighted avg       0.86      0.89      0.85       100\n",
            "\n"
          ]
        },
        {
          "output_type": "stream",
          "name": "stderr",
          "text": [
            "/usr/local/lib/python3.11/dist-packages/sklearn/metrics/_classification.py:1565: UndefinedMetricWarning: Precision is ill-defined and being set to 0.0 in labels with no predicted samples. Use `zero_division` parameter to control this behavior.\n",
            "  _warn_prf(average, modifier, f\"{metric.capitalize()} is\", len(result))\n",
            "/usr/local/lib/python3.11/dist-packages/sklearn/metrics/_classification.py:1565: UndefinedMetricWarning: Precision is ill-defined and being set to 0.0 in labels with no predicted samples. Use `zero_division` parameter to control this behavior.\n",
            "  _warn_prf(average, modifier, f\"{metric.capitalize()} is\", len(result))\n",
            "/usr/local/lib/python3.11/dist-packages/sklearn/metrics/_classification.py:1565: UndefinedMetricWarning: Precision is ill-defined and being set to 0.0 in labels with no predicted samples. Use `zero_division` parameter to control this behavior.\n",
            "  _warn_prf(average, modifier, f\"{metric.capitalize()} is\", len(result))\n"
          ]
        }
      ]
    }
  ]
}