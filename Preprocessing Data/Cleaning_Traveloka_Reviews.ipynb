{
  "nbformat": 4,
  "nbformat_minor": 0,
  "metadata": {
    "colab": {
      "provenance": []
    },
    "kernelspec": {
      "name": "python3",
      "display_name": "Python 3"
    },
    "language_info": {
      "name": "python"
    }
  },
  "cells": [
    {
      "cell_type": "code",
      "execution_count": 1,
      "metadata": {
        "id": "Njd9miUEqcSb"
      },
      "outputs": [],
      "source": [
        "import pandas as pd\n",
        "import re"
      ]
    },
    {
      "cell_type": "code",
      "source": [
        "# === 1. Baca file Excel ===\n",
        "file_path = 'hasil_sentimen_AI.xlsx'  # ganti dengan path file Anda\n",
        "df = pd.read_excel(file_path)\n",
        "\n",
        "# === 2. Hapus kolom numerik ===\n",
        "df_cleaned = df.select_dtypes(exclude=['number'])\n",
        "\n",
        "# === 3. Kamus singkatan ke kata formal ===\n",
        "kamus_singkatan = {\n",
        "    'gk': 'nggak',\n",
        "    'tdk': 'tidak',\n",
        "    'TDK': 'tidak',\n",
        "    'dr': 'dari',\n",
        "    'tp': 'tapi',\n",
        "    'yg': 'yang',\n",
        "    'aja': 'saja',\n",
        "    'udh': 'sudah',\n",
        "    'suda': 'sudah',\n",
        "    'lga': 'lagi',\n",
        "    'lgi': 'lagi',\n",
        "    'blm': 'belum',\n",
        "    'bgt': 'banget',\n",
        "    'sm': 'sama',\n",
        "    'sy': 'saya',\n",
        "    'sgt': 'sangat',\n",
        "    'ga': 'tidak',\n",
        "    'gaada': 'tidak ada',\n",
        "    'bkn': 'bukan',\n",
        "    'mksh': 'terima kasih',\n",
        "    'klo': 'kalau',\n",
        "    'utk': 'untuk',\n",
        "    # tambahkan sesuai kebutuhan\n",
        "}\n",
        "\n",
        "# Fungsi untuk membersihkan dan mengganti singkatan\n",
        "def bersihkan_teks(teks):\n",
        "    if pd.isnull(teks):\n",
        "        return teks\n",
        "    teks = teks.lower()\n",
        "    teks = re.sub(r'[^a-zA-Z\\s]', '', teks)  # hapus karakter non-huruf\n",
        "    kata_kata = teks.split()\n",
        "    kata_kata = [kamus_singkatan.get(kata, kata) for kata in kata_kata]\n",
        "    return ' '.join(kata_kata)\n",
        "\n",
        "# === 4. Terapkan ke setiap kolom teks ===\n",
        "for kolom in df_cleaned.columns:\n",
        "    df_cleaned[kolom] = df_cleaned[kolom].astype(str).apply(bersihkan_teks)\n",
        "\n",
        "# === 5. Simpan ke file Excel baru ===\n",
        "output_path = 'hasil_cleaning.xlsx'\n",
        "df_cleaned.to_excel(output_path, index=False)\n",
        "\n",
        "print(f\"Cleaning selesai! Hasil disimpan di: {output_path}\")\n"
      ],
      "metadata": {
        "colab": {
          "base_uri": "https://localhost:8080/"
        },
        "id": "90W_PDtmrkac",
        "outputId": "978df6df-d536-44bc-b9a2-a6a90c1783e7"
      },
      "execution_count": 2,
      "outputs": [
        {
          "output_type": "stream",
          "name": "stdout",
          "text": [
            "Cleaning selesai! Hasil disimpan di: hasil_cleaning.xlsx\n"
          ]
        }
      ]
    }
  ]
}