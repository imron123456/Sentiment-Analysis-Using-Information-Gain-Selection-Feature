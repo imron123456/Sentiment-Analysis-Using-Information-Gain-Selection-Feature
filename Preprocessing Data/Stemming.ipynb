{
  "nbformat": 4,
  "nbformat_minor": 0,
  "metadata": {
    "colab": {
      "provenance": []
    },
    "kernelspec": {
      "name": "python3",
      "display_name": "Python 3"
    },
    "language_info": {
      "name": "python"
    }
  },
  "cells": [
    {
      "cell_type": "code",
      "source": [
        "!pip install Sastrawi"
      ],
      "metadata": {
        "colab": {
          "base_uri": "https://localhost:8080/"
        },
        "id": "0qKjQRjSWEiJ",
        "outputId": "b10c4e8f-93b3-4a7a-da6f-60b7ac08aa4b"
      },
      "execution_count": 1,
      "outputs": [
        {
          "output_type": "stream",
          "name": "stdout",
          "text": [
            "Collecting Sastrawi\n",
            "  Downloading Sastrawi-1.0.1-py2.py3-none-any.whl.metadata (909 bytes)\n",
            "Downloading Sastrawi-1.0.1-py2.py3-none-any.whl (209 kB)\n",
            "\u001b[2K   \u001b[90m━━━━━━━━━━━━━━━━━━━━━━━━━━━━━━━━━━━━━━━━\u001b[0m \u001b[32m209.7/209.7 kB\u001b[0m \u001b[31m1.1 MB/s\u001b[0m eta \u001b[36m0:00:00\u001b[0m\n",
            "\u001b[?25hInstalling collected packages: Sastrawi\n",
            "Successfully installed Sastrawi-1.0.1\n"
          ]
        }
      ]
    },
    {
      "cell_type": "code",
      "execution_count": 2,
      "metadata": {
        "id": "HrnGbUCgWA9-",
        "colab": {
          "base_uri": "https://localhost:8080/"
        },
        "outputId": "ccaa52d7-6e34-4747-a372-7400b603e547"
      },
      "outputs": [
        {
          "output_type": "stream",
          "name": "stdout",
          "text": [
            "Stemming selesai! Hasil disimpan ke Data AI Stemming.xlsx\n"
          ]
        }
      ],
      "source": [
        "import pandas as pd\n",
        "from Sastrawi.Stemmer.StemmerFactory import StemmerFactory\n",
        "import ast  # kalau token disimpan sebagai string list\n",
        "\n",
        "# ==============================\n",
        "# Load file Excel\n",
        "# ==============================\n",
        "file_name = 'data_stopword.xlsx'  # File input\n",
        "df = pd.read_excel(file_name)\n",
        "\n",
        "# ==============================\n",
        "# Buat stemmer Sastrawi\n",
        "# ==============================\n",
        "factory = StemmerFactory()\n",
        "stemmer = factory.create_stemmer()\n",
        "\n",
        "# ==============================\n",
        "# Fungsi stemming\n",
        "# ==============================\n",
        "def stem_tokens(token_list):\n",
        "    # Kalau token disimpan sebagai string list, parse dulu\n",
        "    if isinstance(token_list, str):\n",
        "        token_list = ast.literal_eval(token_list)\n",
        "    return [stemmer.stem(word) for word in token_list]\n",
        "\n",
        "# ==============================\n",
        "# Terapkan stemming ke token_clean\n",
        "# ==============================\n",
        "df['stem_clean'] = df['stopword_clean'].apply(stem_tokens)\n",
        "\n",
        "# ==============================\n",
        "# Simpan hasil ke file baru\n",
        "# ==============================\n",
        "df.to_excel('data_stemming.xlsx', index=False)\n",
        "\n",
        "print('Stemming selesai! Hasil disimpan ke Data AI Stemming.xlsx')\n"
      ]
    }
  ]
}