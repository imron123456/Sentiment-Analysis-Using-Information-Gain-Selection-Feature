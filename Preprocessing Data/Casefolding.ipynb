{
  "nbformat": 4,
  "nbformat_minor": 0,
  "metadata": {
    "colab": {
      "provenance": []
    },
    "kernelspec": {
      "name": "python3",
      "display_name": "Python 3"
    },
    "language_info": {
      "name": "python"
    }
  },
  "cells": [
    {
      "cell_type": "code",
      "execution_count": 2,
      "metadata": {
        "colab": {
          "base_uri": "https://localhost:8080/"
        },
        "id": "jRwmirGZQQVV",
        "outputId": "e6647204-173c-4a8c-d8d9-7ffbba9132ca"
      },
      "outputs": [
        {
          "output_type": "stream",
          "name": "stdout",
          "text": [
            "Hasil case folding disimpan ke: data_casefolding.xlsx\n"
          ]
        }
      ],
      "source": [
        "import pandas as pd\n",
        "\n",
        "# Baca file Excel\n",
        "file_path = 'hasil_tokenizing.xlsx'  # Ganti dengan path file Anda\n",
        "df = pd.read_excel(file_path)\n",
        "\n",
        "# Tentukan nama kolom yang akan diproses (misalnya 'Ulasan')\n",
        "kolom_asli = 'tokenized'  # Ganti dengan nama kolom sesuai file Anda\n",
        "kolom_casefold = kolom_asli + '_casefold'  # Kolom baru hasil case folding\n",
        "\n",
        "# Proses case folding: ubah menjadi huruf kecil\n",
        "df[kolom_casefold] = df[kolom_asli].astype(str).str.lower()\n",
        "\n",
        "# Simpan hasil ke file Excel baru\n",
        "output_path = 'data_casefolding.xlsx'\n",
        "df.to_excel(output_path, index=False)\n",
        "\n",
        "print(f\"Hasil case folding disimpan ke: {output_path}\")\n"
      ]
    }
  ]
}